{
 "cells": [
  {
   "cell_type": "code",
   "execution_count": 1,
   "id": "b263ba9d",
   "metadata": {
    "_cell_guid": "b1076dfc-b9ad-4769-8c92-a6c4dae69d19",
    "_uuid": "8f2839f25d086af736a60e9eeb907d3b93b6e0e5",
    "execution": {
     "iopub.execute_input": "2025-03-15T18:21:36.336036Z",
     "iopub.status.busy": "2025-03-15T18:21:36.335694Z",
     "iopub.status.idle": "2025-03-15T18:21:39.032457Z",
     "shell.execute_reply": "2025-03-15T18:21:39.031630Z"
    },
    "papermill": {
     "duration": 2.703454,
     "end_time": "2025-03-15T18:21:39.034310",
     "exception": false,
     "start_time": "2025-03-15T18:21:36.330856",
     "status": "completed"
    },
    "tags": []
   },
   "outputs": [],
   "source": [
    "import pandas as pd\n",
    "import numpy as np\n",
    "from sklearn.model_selection import train_test_split, GridSearchCV\n",
    "from sklearn.preprocessing import StandardScaler\n",
    "from sklearn.ensemble import RandomForestClassifier\n",
    "from sklearn.metrics import accuracy_score, classification_report\n",
    "from sklearn.impute import SimpleImputer"
   ]
  },
  {
   "cell_type": "code",
   "execution_count": 2,
   "id": "dead1199",
   "metadata": {
    "execution": {
     "iopub.execute_input": "2025-03-15T18:21:39.041914Z",
     "iopub.status.busy": "2025-03-15T18:21:39.041407Z",
     "iopub.status.idle": "2025-03-15T18:21:39.068896Z",
     "shell.execute_reply": "2025-03-15T18:21:39.067816Z"
    },
    "papermill": {
     "duration": 0.033089,
     "end_time": "2025-03-15T18:21:39.070869",
     "exception": false,
     "start_time": "2025-03-15T18:21:39.037780",
     "status": "completed"
    },
    "tags": []
   },
   "outputs": [],
   "source": [
    "train_data = pd.read_csv('/kaggle/input/playground-series-s5e3/train.csv')\n",
    "test_data = pd.read_csv('/kaggle/input/playground-series-s5e3/test.csv')"
   ]
  },
  {
   "cell_type": "code",
   "execution_count": 3,
   "id": "b4570490",
   "metadata": {
    "execution": {
     "iopub.execute_input": "2025-03-15T18:21:39.078091Z",
     "iopub.status.busy": "2025-03-15T18:21:39.077757Z",
     "iopub.status.idle": "2025-03-15T18:21:39.090828Z",
     "shell.execute_reply": "2025-03-15T18:21:39.089795Z"
    },
    "papermill": {
     "duration": 0.018477,
     "end_time": "2025-03-15T18:21:39.092426",
     "exception": false,
     "start_time": "2025-03-15T18:21:39.073949",
     "status": "completed"
    },
    "tags": []
   },
   "outputs": [],
   "source": [
    "X = train_data.drop(['id', 'rainfall'], axis=1)\n",
    "y = train_data['rainfall']"
   ]
  },
  {
   "cell_type": "code",
   "execution_count": 4,
   "id": "66643ba9",
   "metadata": {
    "execution": {
     "iopub.execute_input": "2025-03-15T18:21:39.100179Z",
     "iopub.status.busy": "2025-03-15T18:21:39.099791Z",
     "iopub.status.idle": "2025-03-15T18:21:39.108644Z",
     "shell.execute_reply": "2025-03-15T18:21:39.107447Z"
    },
    "papermill": {
     "duration": 0.014664,
     "end_time": "2025-03-15T18:21:39.110364",
     "exception": false,
     "start_time": "2025-03-15T18:21:39.095700",
     "status": "completed"
    },
    "tags": []
   },
   "outputs": [],
   "source": [
    "X_train, X_val, y_train, y_val = train_test_split(X, y, test_size=0.2, random_state=42)"
   ]
  },
  {
   "cell_type": "code",
   "execution_count": 5,
   "id": "d3475d5f",
   "metadata": {
    "execution": {
     "iopub.execute_input": "2025-03-15T18:21:39.117401Z",
     "iopub.status.busy": "2025-03-15T18:21:39.117097Z",
     "iopub.status.idle": "2025-03-15T18:21:39.133388Z",
     "shell.execute_reply": "2025-03-15T18:21:39.132477Z"
    },
    "papermill": {
     "duration": 0.021743,
     "end_time": "2025-03-15T18:21:39.135159",
     "exception": false,
     "start_time": "2025-03-15T18:21:39.113416",
     "status": "completed"
    },
    "tags": []
   },
   "outputs": [],
   "source": [
    "imputer = SimpleImputer(strategy='mean')\n",
    "X_train_imputed = imputer.fit_transform(X_train)\n",
    "X_val_imputed = imputer.transform(X_val)\n",
    "test_features_imputed = imputer.transform(test_data.drop('id', axis=1))"
   ]
  },
  {
   "cell_type": "code",
   "execution_count": 6,
   "id": "51f55393",
   "metadata": {
    "execution": {
     "iopub.execute_input": "2025-03-15T18:21:39.142340Z",
     "iopub.status.busy": "2025-03-15T18:21:39.142027Z",
     "iopub.status.idle": "2025-03-15T18:21:39.159134Z",
     "shell.execute_reply": "2025-03-15T18:21:39.158340Z"
    },
    "papermill": {
     "duration": 0.022488,
     "end_time": "2025-03-15T18:21:39.160753",
     "exception": false,
     "start_time": "2025-03-15T18:21:39.138265",
     "status": "completed"
    },
    "tags": []
   },
   "outputs": [],
   "source": [
    "scaler = StandardScaler()\n",
    "X_train_scaled = scaler.fit_transform(X_train_imputed)\n",
    "X_val_scaled = scaler.transform(X_val_imputed)\n",
    "test_features_scaled = scaler.transform(test_features_imputed)"
   ]
  },
  {
   "cell_type": "code",
   "execution_count": 7,
   "id": "52bb8b47",
   "metadata": {
    "execution": {
     "iopub.execute_input": "2025-03-15T18:21:39.167853Z",
     "iopub.status.busy": "2025-03-15T18:21:39.167522Z",
     "iopub.status.idle": "2025-03-15T18:23:10.732609Z",
     "shell.execute_reply": "2025-03-15T18:23:10.731545Z"
    },
    "papermill": {
     "duration": 91.573402,
     "end_time": "2025-03-15T18:23:10.737211",
     "exception": false,
     "start_time": "2025-03-15T18:21:39.163809",
     "status": "completed"
    },
    "tags": []
   },
   "outputs": [
    {
     "data": {
      "text/html": [
       "<style>#sk-container-id-1 {color: black;background-color: white;}#sk-container-id-1 pre{padding: 0;}#sk-container-id-1 div.sk-toggleable {background-color: white;}#sk-container-id-1 label.sk-toggleable__label {cursor: pointer;display: block;width: 100%;margin-bottom: 0;padding: 0.3em;box-sizing: border-box;text-align: center;}#sk-container-id-1 label.sk-toggleable__label-arrow:before {content: \"▸\";float: left;margin-right: 0.25em;color: #696969;}#sk-container-id-1 label.sk-toggleable__label-arrow:hover:before {color: black;}#sk-container-id-1 div.sk-estimator:hover label.sk-toggleable__label-arrow:before {color: black;}#sk-container-id-1 div.sk-toggleable__content {max-height: 0;max-width: 0;overflow: hidden;text-align: left;background-color: #f0f8ff;}#sk-container-id-1 div.sk-toggleable__content pre {margin: 0.2em;color: black;border-radius: 0.25em;background-color: #f0f8ff;}#sk-container-id-1 input.sk-toggleable__control:checked~div.sk-toggleable__content {max-height: 200px;max-width: 100%;overflow: auto;}#sk-container-id-1 input.sk-toggleable__control:checked~label.sk-toggleable__label-arrow:before {content: \"▾\";}#sk-container-id-1 div.sk-estimator input.sk-toggleable__control:checked~label.sk-toggleable__label {background-color: #d4ebff;}#sk-container-id-1 div.sk-label input.sk-toggleable__control:checked~label.sk-toggleable__label {background-color: #d4ebff;}#sk-container-id-1 input.sk-hidden--visually {border: 0;clip: rect(1px 1px 1px 1px);clip: rect(1px, 1px, 1px, 1px);height: 1px;margin: -1px;overflow: hidden;padding: 0;position: absolute;width: 1px;}#sk-container-id-1 div.sk-estimator {font-family: monospace;background-color: #f0f8ff;border: 1px dotted black;border-radius: 0.25em;box-sizing: border-box;margin-bottom: 0.5em;}#sk-container-id-1 div.sk-estimator:hover {background-color: #d4ebff;}#sk-container-id-1 div.sk-parallel-item::after {content: \"\";width: 100%;border-bottom: 1px solid gray;flex-grow: 1;}#sk-container-id-1 div.sk-label:hover label.sk-toggleable__label {background-color: #d4ebff;}#sk-container-id-1 div.sk-serial::before {content: \"\";position: absolute;border-left: 1px solid gray;box-sizing: border-box;top: 0;bottom: 0;left: 50%;z-index: 0;}#sk-container-id-1 div.sk-serial {display: flex;flex-direction: column;align-items: center;background-color: white;padding-right: 0.2em;padding-left: 0.2em;position: relative;}#sk-container-id-1 div.sk-item {position: relative;z-index: 1;}#sk-container-id-1 div.sk-parallel {display: flex;align-items: stretch;justify-content: center;background-color: white;position: relative;}#sk-container-id-1 div.sk-item::before, #sk-container-id-1 div.sk-parallel-item::before {content: \"\";position: absolute;border-left: 1px solid gray;box-sizing: border-box;top: 0;bottom: 0;left: 50%;z-index: -1;}#sk-container-id-1 div.sk-parallel-item {display: flex;flex-direction: column;z-index: 1;position: relative;background-color: white;}#sk-container-id-1 div.sk-parallel-item:first-child::after {align-self: flex-end;width: 50%;}#sk-container-id-1 div.sk-parallel-item:last-child::after {align-self: flex-start;width: 50%;}#sk-container-id-1 div.sk-parallel-item:only-child::after {width: 0;}#sk-container-id-1 div.sk-dashed-wrapped {border: 1px dashed gray;margin: 0 0.4em 0.5em 0.4em;box-sizing: border-box;padding-bottom: 0.4em;background-color: white;}#sk-container-id-1 div.sk-label label {font-family: monospace;font-weight: bold;display: inline-block;line-height: 1.2em;}#sk-container-id-1 div.sk-label-container {text-align: center;}#sk-container-id-1 div.sk-container {/* jupyter's `normalize.less` sets `[hidden] { display: none; }` but bootstrap.min.css set `[hidden] { display: none !important; }` so we also need the `!important` here to be able to override the default hidden behavior on the sphinx rendered scikit-learn.org. See: https://github.com/scikit-learn/scikit-learn/issues/21755 */display: inline-block !important;position: relative;}#sk-container-id-1 div.sk-text-repr-fallback {display: none;}</style><div id=\"sk-container-id-1\" class=\"sk-top-container\"><div class=\"sk-text-repr-fallback\"><pre>GridSearchCV(cv=5, estimator=RandomForestClassifier(random_state=42),\n",
       "             param_grid={&#x27;max_depth&#x27;: [None, 10, 20],\n",
       "                         &#x27;min_samples_split&#x27;: [2, 5, 10],\n",
       "                         &#x27;n_estimators&#x27;: [100, 200, 300]},\n",
       "             scoring=&#x27;accuracy&#x27;)</pre><b>In a Jupyter environment, please rerun this cell to show the HTML representation or trust the notebook. <br />On GitHub, the HTML representation is unable to render, please try loading this page with nbviewer.org.</b></div><div class=\"sk-container\" hidden><div class=\"sk-item sk-dashed-wrapped\"><div class=\"sk-label-container\"><div class=\"sk-label sk-toggleable\"><input class=\"sk-toggleable__control sk-hidden--visually\" id=\"sk-estimator-id-1\" type=\"checkbox\" ><label for=\"sk-estimator-id-1\" class=\"sk-toggleable__label sk-toggleable__label-arrow\">GridSearchCV</label><div class=\"sk-toggleable__content\"><pre>GridSearchCV(cv=5, estimator=RandomForestClassifier(random_state=42),\n",
       "             param_grid={&#x27;max_depth&#x27;: [None, 10, 20],\n",
       "                         &#x27;min_samples_split&#x27;: [2, 5, 10],\n",
       "                         &#x27;n_estimators&#x27;: [100, 200, 300]},\n",
       "             scoring=&#x27;accuracy&#x27;)</pre></div></div></div><div class=\"sk-parallel\"><div class=\"sk-parallel-item\"><div class=\"sk-item\"><div class=\"sk-label-container\"><div class=\"sk-label sk-toggleable\"><input class=\"sk-toggleable__control sk-hidden--visually\" id=\"sk-estimator-id-2\" type=\"checkbox\" ><label for=\"sk-estimator-id-2\" class=\"sk-toggleable__label sk-toggleable__label-arrow\">estimator: RandomForestClassifier</label><div class=\"sk-toggleable__content\"><pre>RandomForestClassifier(random_state=42)</pre></div></div></div><div class=\"sk-serial\"><div class=\"sk-item\"><div class=\"sk-estimator sk-toggleable\"><input class=\"sk-toggleable__control sk-hidden--visually\" id=\"sk-estimator-id-3\" type=\"checkbox\" ><label for=\"sk-estimator-id-3\" class=\"sk-toggleable__label sk-toggleable__label-arrow\">RandomForestClassifier</label><div class=\"sk-toggleable__content\"><pre>RandomForestClassifier(random_state=42)</pre></div></div></div></div></div></div></div></div></div></div>"
      ],
      "text/plain": [
       "GridSearchCV(cv=5, estimator=RandomForestClassifier(random_state=42),\n",
       "             param_grid={'max_depth': [None, 10, 20],\n",
       "                         'min_samples_split': [2, 5, 10],\n",
       "                         'n_estimators': [100, 200, 300]},\n",
       "             scoring='accuracy')"
      ]
     },
     "execution_count": 7,
     "metadata": {},
     "output_type": "execute_result"
    }
   ],
   "source": [
    "rf_model = RandomForestClassifier(random_state=42)\n",
    "param_grid = {\n",
    "    'n_estimators': [100, 200, 300],\n",
    "    'max_depth': [None, 10, 20],\n",
    "    'min_samples_split': [2, 5, 10]\n",
    "}\n",
    "grid_search = GridSearchCV(rf_model, param_grid, cv=5, scoring='accuracy')\n",
    "grid_search.fit(X_train_scaled, y_train)"
   ]
  },
  {
   "cell_type": "code",
   "execution_count": 8,
   "id": "d481c198",
   "metadata": {
    "execution": {
     "iopub.execute_input": "2025-03-15T18:23:10.744915Z",
     "iopub.status.busy": "2025-03-15T18:23:10.744543Z",
     "iopub.status.idle": "2025-03-15T18:23:10.748303Z",
     "shell.execute_reply": "2025-03-15T18:23:10.747393Z"
    },
    "papermill": {
     "duration": 0.009498,
     "end_time": "2025-03-15T18:23:10.750015",
     "exception": false,
     "start_time": "2025-03-15T18:23:10.740517",
     "status": "completed"
    },
    "tags": []
   },
   "outputs": [],
   "source": [
    "best_rf_model = grid_search.best_estimator_"
   ]
  },
  {
   "cell_type": "code",
   "execution_count": 9,
   "id": "292abaee",
   "metadata": {
    "execution": {
     "iopub.execute_input": "2025-03-15T18:23:10.757590Z",
     "iopub.status.busy": "2025-03-15T18:23:10.757267Z",
     "iopub.status.idle": "2025-03-15T18:23:10.782578Z",
     "shell.execute_reply": "2025-03-15T18:23:10.781225Z"
    },
    "papermill": {
     "duration": 0.030911,
     "end_time": "2025-03-15T18:23:10.784209",
     "exception": false,
     "start_time": "2025-03-15T18:23:10.753298",
     "status": "completed"
    },
    "tags": []
   },
   "outputs": [
    {
     "name": "stdout",
     "output_type": "stream",
     "text": [
      "Validation Accuracy: 84.70%\n",
      "Classification Report:\n",
      "               precision    recall  f1-score   support\n",
      "\n",
      "           0       0.78      0.61      0.68       119\n",
      "           1       0.86      0.94      0.90       319\n",
      "\n",
      "    accuracy                           0.85       438\n",
      "   macro avg       0.82      0.77      0.79       438\n",
      "weighted avg       0.84      0.85      0.84       438\n",
      "\n"
     ]
    }
   ],
   "source": [
    "y_val_pred = best_rf_model.predict(X_val_scaled)\n",
    "val_accuracy = accuracy_score(y_val, y_val_pred)\n",
    "print(f\"Validation Accuracy: {val_accuracy * 100:.2f}%\")\n",
    "print(\"Classification Report:\\n\", classification_report(y_val, y_val_pred))"
   ]
  },
  {
   "cell_type": "code",
   "execution_count": 10,
   "id": "70662e47",
   "metadata": {
    "execution": {
     "iopub.execute_input": "2025-03-15T18:23:10.792335Z",
     "iopub.status.busy": "2025-03-15T18:23:10.792031Z",
     "iopub.status.idle": "2025-03-15T18:23:10.810452Z",
     "shell.execute_reply": "2025-03-15T18:23:10.809381Z"
    },
    "papermill": {
     "duration": 0.024759,
     "end_time": "2025-03-15T18:23:10.812389",
     "exception": false,
     "start_time": "2025-03-15T18:23:10.787630",
     "status": "completed"
    },
    "tags": []
   },
   "outputs": [],
   "source": [
    "test_predictions = best_rf_model.predict(test_features_scaled)"
   ]
  },
  {
   "cell_type": "code",
   "execution_count": 11,
   "id": "7e35ca9a",
   "metadata": {
    "execution": {
     "iopub.execute_input": "2025-03-15T18:23:10.820350Z",
     "iopub.status.busy": "2025-03-15T18:23:10.820050Z",
     "iopub.status.idle": "2025-03-15T18:23:10.831903Z",
     "shell.execute_reply": "2025-03-15T18:23:10.830628Z"
    },
    "papermill": {
     "duration": 0.017915,
     "end_time": "2025-03-15T18:23:10.833849",
     "exception": false,
     "start_time": "2025-03-15T18:23:10.815934",
     "status": "completed"
    },
    "tags": []
   },
   "outputs": [],
   "source": [
    "submission = pd.DataFrame({\n",
    "    'id': test_data['id'],\n",
    "    'rainfall': test_predictions\n",
    "})\n",
    "submission.to_csv('submission.csv', index=False)"
   ]
  }
 ],
 "metadata": {
  "kaggle": {
   "accelerator": "none",
   "dataSources": [
    {
     "databundleVersionId": 11251744,
     "sourceId": 91714,
     "sourceType": "competition"
    }
   ],
   "dockerImageVersionId": 30918,
   "isGpuEnabled": false,
   "isInternetEnabled": true,
   "language": "python",
   "sourceType": "notebook"
  },
  "kernelspec": {
   "display_name": "Python 3",
   "language": "python",
   "name": "python3"
  },
  "language_info": {
   "codemirror_mode": {
    "name": "ipython",
    "version": 3
   },
   "file_extension": ".py",
   "mimetype": "text/x-python",
   "name": "python",
   "nbconvert_exporter": "python",
   "pygments_lexer": "ipython3",
   "version": "3.10.12"
  },
  "papermill": {
   "default_parameters": {},
   "duration": 97.974344,
   "end_time": "2025-03-15T18:23:11.558061",
   "environment_variables": {},
   "exception": null,
   "input_path": "__notebook__.ipynb",
   "output_path": "__notebook__.ipynb",
   "parameters": {},
   "start_time": "2025-03-15T18:21:33.583717",
   "version": "2.6.0"
  }
 },
 "nbformat": 4,
 "nbformat_minor": 5
}
