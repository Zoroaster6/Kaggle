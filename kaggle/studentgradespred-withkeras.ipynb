{
 "cells": [
  {
   "cell_type": "code",
   "execution_count": 1,
   "id": "c73b3e78",
   "metadata": {
    "_cell_guid": "b1076dfc-b9ad-4769-8c92-a6c4dae69d19",
    "_uuid": "8f2839f25d086af736a60e9eeb907d3b93b6e0e5",
    "execution": {
     "iopub.execute_input": "2025-03-12T12:03:16.414644Z",
     "iopub.status.busy": "2025-03-12T12:03:16.414289Z",
     "iopub.status.idle": "2025-03-12T12:03:17.306213Z",
     "shell.execute_reply": "2025-03-12T12:03:17.304982Z"
    },
    "papermill": {
     "duration": 0.898502,
     "end_time": "2025-03-12T12:03:17.307945",
     "exception": false,
     "start_time": "2025-03-12T12:03:16.409443",
     "status": "completed"
    },
    "tags": []
   },
   "outputs": [
    {
     "name": "stdout",
     "output_type": "stream",
     "text": [
      "/kaggle/input/student-grades-intermediate-dataset/Student_Grades.csv\n"
     ]
    }
   ],
   "source": [
    "# This Python 3 environment comes with many helpful analytics libraries installed\n",
    "# It is defined by the kaggle/python Docker image: https://github.com/kaggle/docker-python\n",
    "# For example, here's several helpful packages to load\n",
    "\n",
    "import numpy as np # linear algebra\n",
    "import pandas as pd # data processing, CSV file I/O (e.g. pd.read_csv)\n",
    "\n",
    "# Input data files are available in the read-only \"../input/\" directory\n",
    "# For example, running this (by clicking run or pressing Shift+Enter) will list all files under the input directory\n",
    "\n",
    "import os\n",
    "for dirname, _, filenames in os.walk('/kaggle/input'):\n",
    "    for filename in filenames:\n",
    "        print(os.path.join(dirname, filename))\n",
    "\n",
    "# You can write up to 20GB to the current directory (/kaggle/working/) that gets preserved as output when you create a version using \"Save & Run All\" \n",
    "# You can also write temporary files to /kaggle/temp/, but they won't be saved outside of the current session"
   ]
  },
  {
   "cell_type": "code",
   "execution_count": 2,
   "id": "e7e25160",
   "metadata": {
    "execution": {
     "iopub.execute_input": "2025-03-12T12:03:17.315938Z",
     "iopub.status.busy": "2025-03-12T12:03:17.315486Z",
     "iopub.status.idle": "2025-03-12T12:03:17.353219Z",
     "shell.execute_reply": "2025-03-12T12:03:17.352289Z"
    },
    "papermill": {
     "duration": 0.043353,
     "end_time": "2025-03-12T12:03:17.354863",
     "exception": false,
     "start_time": "2025-03-12T12:03:17.311510",
     "status": "completed"
    },
    "tags": []
   },
   "outputs": [
    {
     "data": {
      "text/html": [
       "<div>\n",
       "<style scoped>\n",
       "    .dataframe tbody tr th:only-of-type {\n",
       "        vertical-align: middle;\n",
       "    }\n",
       "\n",
       "    .dataframe tbody tr th {\n",
       "        vertical-align: top;\n",
       "    }\n",
       "\n",
       "    .dataframe thead th {\n",
       "        text-align: right;\n",
       "    }\n",
       "</style>\n",
       "<table border=\"1\" class=\"dataframe\">\n",
       "  <thead>\n",
       "    <tr style=\"text-align: right;\">\n",
       "      <th></th>\n",
       "      <th>Hours</th>\n",
       "      <th>Practice</th>\n",
       "      <th>TeamWork</th>\n",
       "      <th>MidTerm</th>\n",
       "      <th>FinalExam</th>\n",
       "      <th>Scores</th>\n",
       "      <th>Grade</th>\n",
       "    </tr>\n",
       "  </thead>\n",
       "  <tbody>\n",
       "    <tr>\n",
       "      <th>0</th>\n",
       "      <td>2.5</td>\n",
       "      <td>0.5</td>\n",
       "      <td>0.0</td>\n",
       "      <td>2</td>\n",
       "      <td>2.3</td>\n",
       "      <td>21</td>\n",
       "      <td>C</td>\n",
       "    </tr>\n",
       "    <tr>\n",
       "      <th>1</th>\n",
       "      <td>5.1</td>\n",
       "      <td>1.5</td>\n",
       "      <td>0.5</td>\n",
       "      <td>4</td>\n",
       "      <td>4.9</td>\n",
       "      <td>47</td>\n",
       "      <td>B</td>\n",
       "    </tr>\n",
       "    <tr>\n",
       "      <th>2</th>\n",
       "      <td>3.2</td>\n",
       "      <td>1.0</td>\n",
       "      <td>0.5</td>\n",
       "      <td>3</td>\n",
       "      <td>2.9</td>\n",
       "      <td>27</td>\n",
       "      <td>C</td>\n",
       "    </tr>\n",
       "  </tbody>\n",
       "</table>\n",
       "</div>"
      ],
      "text/plain": [
       "   Hours  Practice  TeamWork  MidTerm  FinalExam  Scores Grade\n",
       "0    2.5       0.5       0.0        2        2.3      21     C\n",
       "1    5.1       1.5       0.5        4        4.9      47     B\n",
       "2    3.2       1.0       0.5        3        2.9      27     C"
      ]
     },
     "execution_count": 2,
     "metadata": {},
     "output_type": "execute_result"
    }
   ],
   "source": [
    "import pandas as pd\n",
    "\n",
    "df = pd.read_csv(\"/kaggle/input/student-grades-intermediate-dataset/Student_Grades.csv\")\n",
    "df.head(3)"
   ]
  },
  {
   "cell_type": "code",
   "execution_count": 3,
   "id": "59e7ae2c",
   "metadata": {
    "execution": {
     "iopub.execute_input": "2025-03-12T12:03:17.362563Z",
     "iopub.status.busy": "2025-03-12T12:03:17.362270Z",
     "iopub.status.idle": "2025-03-12T12:03:17.372308Z",
     "shell.execute_reply": "2025-03-12T12:03:17.371407Z"
    },
    "papermill": {
     "duration": 0.015452,
     "end_time": "2025-03-12T12:03:17.373790",
     "exception": false,
     "start_time": "2025-03-12T12:03:17.358338",
     "status": "completed"
    },
    "tags": []
   },
   "outputs": [],
   "source": [
    "y = df['Scores'].values.astype('float32')\n",
    "x = df.drop(columns=[\"Scores\", \"Grade\"]).values.astype('float32')"
   ]
  },
  {
   "cell_type": "code",
   "execution_count": 4,
   "id": "fd7df520",
   "metadata": {
    "execution": {
     "iopub.execute_input": "2025-03-12T12:03:17.381536Z",
     "iopub.status.busy": "2025-03-12T12:03:17.381169Z",
     "iopub.status.idle": "2025-03-12T12:03:18.591125Z",
     "shell.execute_reply": "2025-03-12T12:03:18.589994Z"
    },
    "papermill": {
     "duration": 1.215977,
     "end_time": "2025-03-12T12:03:18.593074",
     "exception": false,
     "start_time": "2025-03-12T12:03:17.377097",
     "status": "completed"
    },
    "tags": []
   },
   "outputs": [],
   "source": [
    "from sklearn.preprocessing import StandardScaler\n",
    "\n",
    "scaler = StandardScaler()\n",
    "x = scaler.fit_transform(x)"
   ]
  },
  {
   "cell_type": "code",
   "execution_count": 5,
   "id": "f8ed2dc9",
   "metadata": {
    "execution": {
     "iopub.execute_input": "2025-03-12T12:03:18.601698Z",
     "iopub.status.busy": "2025-03-12T12:03:18.601103Z",
     "iopub.status.idle": "2025-03-12T12:03:18.733979Z",
     "shell.execute_reply": "2025-03-12T12:03:18.732803Z"
    },
    "papermill": {
     "duration": 0.139029,
     "end_time": "2025-03-12T12:03:18.736019",
     "exception": false,
     "start_time": "2025-03-12T12:03:18.596990",
     "status": "completed"
    },
    "tags": []
   },
   "outputs": [],
   "source": [
    "from sklearn.model_selection import train_test_split\n",
    "\n",
    "x_train, x_test, y_train, y_test = train_test_split(x, y, test_size=0.2, random_state=42)"
   ]
  },
  {
   "cell_type": "code",
   "execution_count": 6,
   "id": "66f17bbb",
   "metadata": {
    "execution": {
     "iopub.execute_input": "2025-03-12T12:03:18.743711Z",
     "iopub.status.busy": "2025-03-12T12:03:18.743330Z",
     "iopub.status.idle": "2025-03-12T12:03:32.286136Z",
     "shell.execute_reply": "2025-03-12T12:03:32.285229Z"
    },
    "papermill": {
     "duration": 13.548577,
     "end_time": "2025-03-12T12:03:32.288079",
     "exception": false,
     "start_time": "2025-03-12T12:03:18.739502",
     "status": "completed"
    },
    "tags": []
   },
   "outputs": [],
   "source": [
    "from tensorflow.keras.models import Sequential\n",
    "from tensorflow.keras.layers import Input, Dense, Dropout\n",
    "\n",
    "model = Sequential([\n",
    "    Input(shape=(x.shape[1],)),  # Input katmanı\n",
    "    Dense(32, activation=\"relu\"),\n",
    "    Dropout(0.2),\n",
    "    Dense(64, activation=\"relu\"),\n",
    "    Dropout(0.2),\n",
    "    Dense(32, activation=\"relu\"),\n",
    "    Dense(1)\n",
    "])"
   ]
  },
  {
   "cell_type": "code",
   "execution_count": 7,
   "id": "95cd12d1",
   "metadata": {
    "execution": {
     "iopub.execute_input": "2025-03-12T12:03:32.296340Z",
     "iopub.status.busy": "2025-03-12T12:03:32.295682Z",
     "iopub.status.idle": "2025-03-12T12:03:32.309635Z",
     "shell.execute_reply": "2025-03-12T12:03:32.308576Z"
    },
    "papermill": {
     "duration": 0.019805,
     "end_time": "2025-03-12T12:03:32.311398",
     "exception": false,
     "start_time": "2025-03-12T12:03:32.291593",
     "status": "completed"
    },
    "tags": []
   },
   "outputs": [],
   "source": [
    "model.compile(optimizer=\"adam\", loss=\"mse\", metrics=[\"mae\"])"
   ]
  },
  {
   "cell_type": "code",
   "execution_count": 8,
   "id": "fcf96c2b",
   "metadata": {
    "execution": {
     "iopub.execute_input": "2025-03-12T12:03:32.318942Z",
     "iopub.status.busy": "2025-03-12T12:03:32.318597Z",
     "iopub.status.idle": "2025-03-12T12:03:32.326405Z",
     "shell.execute_reply": "2025-03-12T12:03:32.325409Z"
    },
    "papermill": {
     "duration": 0.01332,
     "end_time": "2025-03-12T12:03:32.328026",
     "exception": false,
     "start_time": "2025-03-12T12:03:32.314706",
     "status": "completed"
    },
    "tags": []
   },
   "outputs": [],
   "source": [
    "from tensorflow.keras.callbacks import EarlyStopping\n",
    "\n",
    "early_stop = EarlyStopping(monitor=\"val_loss\", patience=10, restore_best_weights=True)"
   ]
  },
  {
   "cell_type": "code",
   "execution_count": 9,
   "id": "5d74093d",
   "metadata": {
    "execution": {
     "iopub.execute_input": "2025-03-12T12:03:32.335501Z",
     "iopub.status.busy": "2025-03-12T12:03:32.335140Z",
     "iopub.status.idle": "2025-03-12T12:03:40.592513Z",
     "shell.execute_reply": "2025-03-12T12:03:40.591325Z"
    },
    "papermill": {
     "duration": 8.262897,
     "end_time": "2025-03-12T12:03:40.594212",
     "exception": false,
     "start_time": "2025-03-12T12:03:32.331315",
     "status": "completed"
    },
    "tags": []
   },
   "outputs": [
    {
     "name": "stdout",
     "output_type": "stream",
     "text": [
      "Epoch 1/128\n",
      "\u001b[1m2/2\u001b[0m \u001b[32m━━━━━━━━━━━━━━━━━━━━\u001b[0m\u001b[37m\u001b[0m \u001b[1m2s\u001b[0m 199ms/step - loss: 3217.9690 - mae: 50.6898 - val_loss: 3515.6616 - val_mae: 54.0617\n",
      "Epoch 2/128\n",
      "\u001b[1m2/2\u001b[0m \u001b[32m━━━━━━━━━━━━━━━━━━━━\u001b[0m\u001b[37m\u001b[0m \u001b[1m0s\u001b[0m 30ms/step - loss: 3102.5635 - mae: 50.2488 - val_loss: 3501.9058 - val_mae: 53.9409\n",
      "Epoch 3/128\n",
      "\u001b[1m2/2\u001b[0m \u001b[32m━━━━━━━━━━━━━━━━━━━━\u001b[0m\u001b[37m\u001b[0m \u001b[1m0s\u001b[0m 30ms/step - loss: 3218.8936 - mae: 51.0424 - val_loss: 3489.2271 - val_mae: 53.8305\n",
      "Epoch 4/128\n",
      "\u001b[1m2/2\u001b[0m \u001b[32m━━━━━━━━━━━━━━━━━━━━\u001b[0m\u001b[37m\u001b[0m \u001b[1m0s\u001b[0m 30ms/step - loss: 3054.0857 - mae: 49.7191 - val_loss: 3477.3743 - val_mae: 53.7271\n",
      "Epoch 5/128\n",
      "\u001b[1m2/2\u001b[0m \u001b[32m━━━━━━━━━━━━━━━━━━━━\u001b[0m\u001b[37m\u001b[0m \u001b[1m0s\u001b[0m 29ms/step - loss: 3039.3740 - mae: 49.4844 - val_loss: 3466.3801 - val_mae: 53.6284\n",
      "Epoch 6/128\n",
      "\u001b[1m2/2\u001b[0m \u001b[32m━━━━━━━━━━━━━━━━━━━━\u001b[0m\u001b[37m\u001b[0m \u001b[1m0s\u001b[0m 31ms/step - loss: 3004.0913 - mae: 49.2975 - val_loss: 3454.9868 - val_mae: 53.5260\n",
      "Epoch 7/128\n",
      "\u001b[1m2/2\u001b[0m \u001b[32m━━━━━━━━━━━━━━━━━━━━\u001b[0m\u001b[37m\u001b[0m \u001b[1m0s\u001b[0m 29ms/step - loss: 3204.3362 - mae: 50.8441 - val_loss: 3443.2515 - val_mae: 53.4211\n",
      "Epoch 8/128\n",
      "\u001b[1m2/2\u001b[0m \u001b[32m━━━━━━━━━━━━━━━━━━━━\u001b[0m\u001b[37m\u001b[0m \u001b[1m0s\u001b[0m 29ms/step - loss: 3092.2244 - mae: 49.7944 - val_loss: 3431.6160 - val_mae: 53.3169\n",
      "Epoch 9/128\n",
      "\u001b[1m2/2\u001b[0m \u001b[32m━━━━━━━━━━━━━━━━━━━━\u001b[0m\u001b[37m\u001b[0m \u001b[1m0s\u001b[0m 29ms/step - loss: 3284.1350 - mae: 51.4983 - val_loss: 3419.5742 - val_mae: 53.2083\n",
      "Epoch 10/128\n",
      "\u001b[1m2/2\u001b[0m \u001b[32m━━━━━━━━━━━━━━━━━━━━\u001b[0m\u001b[37m\u001b[0m \u001b[1m0s\u001b[0m 30ms/step - loss: 3140.8992 - mae: 50.2020 - val_loss: 3407.9702 - val_mae: 53.1002\n",
      "Epoch 11/128\n",
      "\u001b[1m2/2\u001b[0m \u001b[32m━━━━━━━━━━━━━━━━━━━━\u001b[0m\u001b[37m\u001b[0m \u001b[1m0s\u001b[0m 29ms/step - loss: 2958.5352 - mae: 48.6456 - val_loss: 3396.5542 - val_mae: 52.9911\n",
      "Epoch 12/128\n",
      "\u001b[1m2/2\u001b[0m \u001b[32m━━━━━━━━━━━━━━━━━━━━\u001b[0m\u001b[37m\u001b[0m \u001b[1m0s\u001b[0m 30ms/step - loss: 3130.6848 - mae: 50.1246 - val_loss: 3384.2769 - val_mae: 52.8742\n",
      "Epoch 13/128\n",
      "\u001b[1m2/2\u001b[0m \u001b[32m━━━━━━━━━━━━━━━━━━━━\u001b[0m\u001b[37m\u001b[0m \u001b[1m0s\u001b[0m 29ms/step - loss: 2919.6138 - mae: 48.4221 - val_loss: 3371.6028 - val_mae: 52.7514\n",
      "Epoch 14/128\n",
      "\u001b[1m2/2\u001b[0m \u001b[32m━━━━━━━━━━━━━━━━━━━━\u001b[0m\u001b[37m\u001b[0m \u001b[1m0s\u001b[0m 29ms/step - loss: 3092.5908 - mae: 49.9111 - val_loss: 3357.5117 - val_mae: 52.6161\n",
      "Epoch 15/128\n",
      "\u001b[1m2/2\u001b[0m \u001b[32m━━━━━━━━━━━━━━━━━━━━\u001b[0m\u001b[37m\u001b[0m \u001b[1m0s\u001b[0m 30ms/step - loss: 3233.7983 - mae: 51.3500 - val_loss: 3342.5339 - val_mae: 52.4707\n",
      "Epoch 16/128\n",
      "\u001b[1m2/2\u001b[0m \u001b[32m━━━━━━━━━━━━━━━━━━━━\u001b[0m\u001b[37m\u001b[0m \u001b[1m0s\u001b[0m 30ms/step - loss: 3039.7971 - mae: 49.4459 - val_loss: 3326.9492 - val_mae: 52.3165\n",
      "Epoch 17/128\n",
      "\u001b[1m2/2\u001b[0m \u001b[32m━━━━━━━━━━━━━━━━━━━━\u001b[0m\u001b[37m\u001b[0m \u001b[1m0s\u001b[0m 31ms/step - loss: 2964.8914 - mae: 48.8501 - val_loss: 3309.4578 - val_mae: 52.1436\n",
      "Epoch 18/128\n",
      "\u001b[1m2/2\u001b[0m \u001b[32m━━━━━━━━━━━━━━━━━━━━\u001b[0m\u001b[37m\u001b[0m \u001b[1m0s\u001b[0m 30ms/step - loss: 3042.8677 - mae: 49.3612 - val_loss: 3289.6238 - val_mae: 51.9466\n",
      "Epoch 19/128\n",
      "\u001b[1m2/2\u001b[0m \u001b[32m━━━━━━━━━━━━━━━━━━━━\u001b[0m\u001b[37m\u001b[0m \u001b[1m0s\u001b[0m 31ms/step - loss: 2930.6245 - mae: 48.4049 - val_loss: 3268.5103 - val_mae: 51.7329\n",
      "Epoch 20/128\n",
      "\u001b[1m2/2\u001b[0m \u001b[32m━━━━━━━━━━━━━━━━━━━━\u001b[0m\u001b[37m\u001b[0m \u001b[1m0s\u001b[0m 30ms/step - loss: 3006.1321 - mae: 48.8254 - val_loss: 3245.4243 - val_mae: 51.4960\n",
      "Epoch 21/128\n",
      "\u001b[1m2/2\u001b[0m \u001b[32m━━━━━━━━━━━━━━━━━━━━\u001b[0m\u001b[37m\u001b[0m \u001b[1m0s\u001b[0m 30ms/step - loss: 3016.1321 - mae: 49.3038 - val_loss: 3220.6975 - val_mae: 51.2403\n",
      "Epoch 22/128\n",
      "\u001b[1m2/2\u001b[0m \u001b[32m━━━━━━━━━━━━━━━━━━━━\u001b[0m\u001b[37m\u001b[0m \u001b[1m0s\u001b[0m 29ms/step - loss: 2938.3015 - mae: 48.3590 - val_loss: 3193.8462 - val_mae: 50.9605\n",
      "Epoch 23/128\n",
      "\u001b[1m2/2\u001b[0m \u001b[32m━━━━━━━━━━━━━━━━━━━━\u001b[0m\u001b[37m\u001b[0m \u001b[1m0s\u001b[0m 29ms/step - loss: 2882.5552 - mae: 47.6936 - val_loss: 3164.6265 - val_mae: 50.6542\n",
      "Epoch 24/128\n",
      "\u001b[1m2/2\u001b[0m \u001b[32m━━━━━━━━━━━━━━━━━━━━\u001b[0m\u001b[37m\u001b[0m \u001b[1m0s\u001b[0m 29ms/step - loss: 3069.1267 - mae: 49.4825 - val_loss: 3133.0276 - val_mae: 50.3188\n",
      "Epoch 25/128\n",
      "\u001b[1m2/2\u001b[0m \u001b[32m━━━━━━━━━━━━━━━━━━━━\u001b[0m\u001b[37m\u001b[0m \u001b[1m0s\u001b[0m 30ms/step - loss: 3065.3203 - mae: 49.6370 - val_loss: 3100.2986 - val_mae: 49.9626\n",
      "Epoch 26/128\n",
      "\u001b[1m2/2\u001b[0m \u001b[32m━━━━━━━━━━━━━━━━━━━━\u001b[0m\u001b[37m\u001b[0m \u001b[1m0s\u001b[0m 30ms/step - loss: 2609.2620 - mae: 45.0877 - val_loss: 3065.4028 - val_mae: 49.5772\n",
      "Epoch 27/128\n",
      "\u001b[1m2/2\u001b[0m \u001b[32m━━━━━━━━━━━━━━━━━━━━\u001b[0m\u001b[37m\u001b[0m \u001b[1m0s\u001b[0m 30ms/step - loss: 2832.6497 - mae: 47.1192 - val_loss: 3026.2961 - val_mae: 49.1475\n",
      "Epoch 28/128\n",
      "\u001b[1m2/2\u001b[0m \u001b[32m━━━━━━━━━━━━━━━━━━━━\u001b[0m\u001b[37m\u001b[0m \u001b[1m0s\u001b[0m 29ms/step - loss: 2823.7512 - mae: 46.8241 - val_loss: 2984.4385 - val_mae: 48.6806\n",
      "Epoch 29/128\n",
      "\u001b[1m2/2\u001b[0m \u001b[32m━━━━━━━━━━━━━━━━━━━━\u001b[0m\u001b[37m\u001b[0m \u001b[1m0s\u001b[0m 31ms/step - loss: 2788.8511 - mae: 46.6394 - val_loss: 2940.2231 - val_mae: 48.1796\n",
      "Epoch 30/128\n",
      "\u001b[1m2/2\u001b[0m \u001b[32m━━━━━━━━━━━━━━━━━━━━\u001b[0m\u001b[37m\u001b[0m \u001b[1m0s\u001b[0m 30ms/step - loss: 2670.2690 - mae: 45.3389 - val_loss: 2893.3921 - val_mae: 47.6426\n",
      "Epoch 31/128\n",
      "\u001b[1m2/2\u001b[0m \u001b[32m━━━━━━━━━━━━━━━━━━━━\u001b[0m\u001b[37m\u001b[0m \u001b[1m0s\u001b[0m 29ms/step - loss: 2568.6409 - mae: 43.9629 - val_loss: 2842.6382 - val_mae: 47.0580\n",
      "Epoch 32/128\n",
      "\u001b[1m2/2\u001b[0m \u001b[32m━━━━━━━━━━━━━━━━━━━━\u001b[0m\u001b[37m\u001b[0m \u001b[1m0s\u001b[0m 30ms/step - loss: 2480.4316 - mae: 43.1331 - val_loss: 2786.5500 - val_mae: 46.4117\n",
      "Epoch 33/128\n",
      "\u001b[1m2/2\u001b[0m \u001b[32m━━━━━━━━━━━━━━━━━━━━\u001b[0m\u001b[37m\u001b[0m \u001b[1m0s\u001b[0m 30ms/step - loss: 2696.4382 - mae: 44.9495 - val_loss: 2726.8250 - val_mae: 45.7105\n",
      "Epoch 34/128\n",
      "\u001b[1m2/2\u001b[0m \u001b[32m━━━━━━━━━━━━━━━━━━━━\u001b[0m\u001b[37m\u001b[0m \u001b[1m0s\u001b[0m 30ms/step - loss: 2479.0132 - mae: 42.4311 - val_loss: 2665.3218 - val_mae: 44.9691\n",
      "Epoch 35/128\n",
      "\u001b[1m2/2\u001b[0m \u001b[32m━━━━━━━━━━━━━━━━━━━━\u001b[0m\u001b[37m\u001b[0m \u001b[1m0s\u001b[0m 31ms/step - loss: 2390.0525 - mae: 41.4850 - val_loss: 2599.6802 - val_mae: 44.1634\n",
      "Epoch 36/128\n",
      "\u001b[1m2/2\u001b[0m \u001b[32m━━━━━━━━━━━━━━━━━━━━\u001b[0m\u001b[37m\u001b[0m \u001b[1m0s\u001b[0m 29ms/step - loss: 2415.6221 - mae: 42.4834 - val_loss: 2529.0361 - val_mae: 43.2827\n",
      "Epoch 37/128\n",
      "\u001b[1m2/2\u001b[0m \u001b[32m━━━━━━━━━━━━━━━━━━━━\u001b[0m\u001b[37m\u001b[0m \u001b[1m0s\u001b[0m 29ms/step - loss: 2184.5752 - mae: 39.3909 - val_loss: 2452.6064 - val_mae: 42.3175\n",
      "Epoch 38/128\n",
      "\u001b[1m2/2\u001b[0m \u001b[32m━━━━━━━━━━━━━━━━━━━━\u001b[0m\u001b[37m\u001b[0m \u001b[1m0s\u001b[0m 29ms/step - loss: 2288.7295 - mae: 41.2409 - val_loss: 2374.1465 - val_mae: 41.2966\n",
      "Epoch 39/128\n",
      "\u001b[1m2/2\u001b[0m \u001b[32m━━━━━━━━━━━━━━━━━━━━\u001b[0m\u001b[37m\u001b[0m \u001b[1m0s\u001b[0m 31ms/step - loss: 2260.6240 - mae: 40.2757 - val_loss: 2294.8972 - val_mae: 40.2291\n",
      "Epoch 40/128\n",
      "\u001b[1m2/2\u001b[0m \u001b[32m━━━━━━━━━━━━━━━━━━━━\u001b[0m\u001b[37m\u001b[0m \u001b[1m0s\u001b[0m 30ms/step - loss: 1979.5222 - mae: 37.1460 - val_loss: 2211.9961 - val_mae: 39.1097\n",
      "Epoch 41/128\n",
      "\u001b[1m2/2\u001b[0m \u001b[32m━━━━━━━━━━━━━━━━━━━━\u001b[0m\u001b[37m\u001b[0m \u001b[1m0s\u001b[0m 31ms/step - loss: 1952.5211 - mae: 37.0796 - val_loss: 2122.3589 - val_mae: 38.5257\n",
      "Epoch 42/128\n",
      "\u001b[1m2/2\u001b[0m \u001b[32m━━━━━━━━━━━━━━━━━━━━\u001b[0m\u001b[37m\u001b[0m \u001b[1m0s\u001b[0m 31ms/step - loss: 1915.9186 - mae: 36.1741 - val_loss: 2029.7933 - val_mae: 37.8969\n",
      "Epoch 43/128\n",
      "\u001b[1m2/2\u001b[0m \u001b[32m━━━━━━━━━━━━━━━━━━━━\u001b[0m\u001b[37m\u001b[0m \u001b[1m0s\u001b[0m 30ms/step - loss: 1889.8036 - mae: 36.8970 - val_loss: 1937.0569 - val_mae: 37.2337\n",
      "Epoch 44/128\n",
      "\u001b[1m2/2\u001b[0m \u001b[32m━━━━━━━━━━━━━━━━━━━━\u001b[0m\u001b[37m\u001b[0m \u001b[1m0s\u001b[0m 32ms/step - loss: 1748.0221 - mae: 35.0169 - val_loss: 1843.6399 - val_mae: 36.5264\n",
      "Epoch 45/128\n",
      "\u001b[1m2/2\u001b[0m \u001b[32m━━━━━━━━━━━━━━━━━━━━\u001b[0m\u001b[37m\u001b[0m \u001b[1m0s\u001b[0m 30ms/step - loss: 1695.5352 - mae: 34.5308 - val_loss: 1750.9760 - val_mae: 35.7917\n",
      "Epoch 46/128\n",
      "\u001b[1m2/2\u001b[0m \u001b[32m━━━━━━━━━━━━━━━━━━━━\u001b[0m\u001b[37m\u001b[0m \u001b[1m0s\u001b[0m 30ms/step - loss: 1609.8365 - mae: 33.1795 - val_loss: 1657.0121 - val_mae: 34.9941\n",
      "Epoch 47/128\n",
      "\u001b[1m2/2\u001b[0m \u001b[32m━━━━━━━━━━━━━━━━━━━━\u001b[0m\u001b[37m\u001b[0m \u001b[1m0s\u001b[0m 29ms/step - loss: 1578.6289 - mae: 33.4406 - val_loss: 1559.4152 - val_mae: 34.1131\n",
      "Epoch 48/128\n",
      "\u001b[1m2/2\u001b[0m \u001b[32m━━━━━━━━━━━━━━━━━━━━\u001b[0m\u001b[37m\u001b[0m \u001b[1m0s\u001b[0m 29ms/step - loss: 1398.1542 - mae: 31.6774 - val_loss: 1460.2200 - val_mae: 33.1572\n",
      "Epoch 49/128\n",
      "\u001b[1m2/2\u001b[0m \u001b[32m━━━━━━━━━━━━━━━━━━━━\u001b[0m\u001b[37m\u001b[0m \u001b[1m0s\u001b[0m 29ms/step - loss: 1169.3049 - mae: 28.1864 - val_loss: 1360.4835 - val_mae: 32.1321\n",
      "Epoch 50/128\n",
      "\u001b[1m2/2\u001b[0m \u001b[32m━━━━━━━━━━━━━━━━━━━━\u001b[0m\u001b[37m\u001b[0m \u001b[1m0s\u001b[0m 29ms/step - loss: 1121.0383 - mae: 28.6635 - val_loss: 1261.2751 - val_mae: 31.0356\n",
      "Epoch 51/128\n",
      "\u001b[1m2/2\u001b[0m \u001b[32m━━━━━━━━━━━━━━━━━━━━\u001b[0m\u001b[37m\u001b[0m \u001b[1m0s\u001b[0m 29ms/step - loss: 1383.4255 - mae: 32.7129 - val_loss: 1165.9410 - val_mae: 29.9072\n",
      "Epoch 52/128\n",
      "\u001b[1m2/2\u001b[0m \u001b[32m━━━━━━━━━━━━━━━━━━━━\u001b[0m\u001b[37m\u001b[0m \u001b[1m0s\u001b[0m 30ms/step - loss: 985.7596 - mae: 26.9625 - val_loss: 1073.2590 - val_mae: 28.7427\n",
      "Epoch 53/128\n",
      "\u001b[1m2/2\u001b[0m \u001b[32m━━━━━━━━━━━━━━━━━━━━\u001b[0m\u001b[37m\u001b[0m \u001b[1m0s\u001b[0m 29ms/step - loss: 993.8761 - mae: 27.4517 - val_loss: 980.3010 - val_mae: 27.4963\n",
      "Epoch 54/128\n",
      "\u001b[1m2/2\u001b[0m \u001b[32m━━━━━━━━━━━━━━━━━━━━\u001b[0m\u001b[37m\u001b[0m \u001b[1m0s\u001b[0m 29ms/step - loss: 966.2800 - mae: 26.0838 - val_loss: 893.9706 - val_mae: 26.2500\n",
      "Epoch 55/128\n",
      "\u001b[1m2/2\u001b[0m \u001b[32m━━━━━━━━━━━━━━━━━━━━\u001b[0m\u001b[37m\u001b[0m \u001b[1m0s\u001b[0m 29ms/step - loss: 779.2641 - mae: 23.9149 - val_loss: 809.8768 - val_mae: 24.9369\n",
      "Epoch 56/128\n",
      "\u001b[1m2/2\u001b[0m \u001b[32m━━━━━━━━━━━━━━━━━━━━\u001b[0m\u001b[37m\u001b[0m \u001b[1m0s\u001b[0m 30ms/step - loss: 805.4709 - mae: 24.6592 - val_loss: 729.8531 - val_mae: 23.5911\n",
      "Epoch 57/128\n",
      "\u001b[1m2/2\u001b[0m \u001b[32m━━━━━━━━━━━━━━━━━━━━\u001b[0m\u001b[37m\u001b[0m \u001b[1m0s\u001b[0m 31ms/step - loss: 881.7637 - mae: 26.3825 - val_loss: 655.7322 - val_mae: 22.2322\n",
      "Epoch 58/128\n",
      "\u001b[1m2/2\u001b[0m \u001b[32m━━━━━━━━━━━━━━━━━━━━\u001b[0m\u001b[37m\u001b[0m \u001b[1m0s\u001b[0m 29ms/step - loss: 613.9812 - mae: 20.9882 - val_loss: 589.9244 - val_mae: 20.8818\n",
      "Epoch 59/128\n",
      "\u001b[1m2/2\u001b[0m \u001b[32m━━━━━━━━━━━━━━━━━━━━\u001b[0m\u001b[37m\u001b[0m \u001b[1m0s\u001b[0m 30ms/step - loss: 665.5204 - mae: 21.7419 - val_loss: 528.6283 - val_mae: 19.6012\n",
      "Epoch 60/128\n",
      "\u001b[1m2/2\u001b[0m \u001b[32m━━━━━━━━━━━━━━━━━━━━\u001b[0m\u001b[37m\u001b[0m \u001b[1m0s\u001b[0m 29ms/step - loss: 737.8553 - mae: 23.2997 - val_loss: 470.9795 - val_mae: 18.1923\n",
      "Epoch 61/128\n",
      "\u001b[1m2/2\u001b[0m \u001b[32m━━━━━━━━━━━━━━━━━━━━\u001b[0m\u001b[37m\u001b[0m \u001b[1m0s\u001b[0m 30ms/step - loss: 604.1323 - mae: 21.3761 - val_loss: 422.6807 - val_mae: 16.8086\n",
      "Epoch 62/128\n",
      "\u001b[1m2/2\u001b[0m \u001b[32m━━━━━━━━━━━━━━━━━━━━\u001b[0m\u001b[37m\u001b[0m \u001b[1m0s\u001b[0m 31ms/step - loss: 585.7863 - mae: 20.9138 - val_loss: 380.0439 - val_mae: 15.6367\n",
      "Epoch 63/128\n",
      "\u001b[1m2/2\u001b[0m \u001b[32m━━━━━━━━━━━━━━━━━━━━\u001b[0m\u001b[37m\u001b[0m \u001b[1m0s\u001b[0m 30ms/step - loss: 533.7524 - mae: 17.6989 - val_loss: 343.4539 - val_mae: 14.5748\n",
      "Epoch 64/128\n",
      "\u001b[1m2/2\u001b[0m \u001b[32m━━━━━━━━━━━━━━━━━━━━\u001b[0m\u001b[37m\u001b[0m \u001b[1m0s\u001b[0m 30ms/step - loss: 527.9227 - mae: 19.5295 - val_loss: 314.0348 - val_mae: 13.5936\n",
      "Epoch 65/128\n",
      "\u001b[1m2/2\u001b[0m \u001b[32m━━━━━━━━━━━━━━━━━━━━\u001b[0m\u001b[37m\u001b[0m \u001b[1m0s\u001b[0m 31ms/step - loss: 422.5453 - mae: 17.0734 - val_loss: 288.3470 - val_mae: 12.5960\n",
      "Epoch 66/128\n",
      "\u001b[1m2/2\u001b[0m \u001b[32m━━━━━━━━━━━━━━━━━━━━\u001b[0m\u001b[37m\u001b[0m \u001b[1m0s\u001b[0m 30ms/step - loss: 359.9003 - mae: 15.9173 - val_loss: 267.8905 - val_mae: 11.7095\n",
      "Epoch 67/128\n",
      "\u001b[1m2/2\u001b[0m \u001b[32m━━━━━━━━━━━━━━━━━━━━\u001b[0m\u001b[37m\u001b[0m \u001b[1m0s\u001b[0m 30ms/step - loss: 484.7809 - mae: 18.5622 - val_loss: 252.5157 - val_mae: 11.5827\n",
      "Epoch 68/128\n",
      "\u001b[1m2/2\u001b[0m \u001b[32m━━━━━━━━━━━━━━━━━━━━\u001b[0m\u001b[37m\u001b[0m \u001b[1m0s\u001b[0m 30ms/step - loss: 457.1075 - mae: 19.0060 - val_loss: 240.1588 - val_mae: 11.4624\n",
      "Epoch 69/128\n",
      "\u001b[1m2/2\u001b[0m \u001b[32m━━━━━━━━━━━━━━━━━━━━\u001b[0m\u001b[37m\u001b[0m \u001b[1m0s\u001b[0m 31ms/step - loss: 421.0453 - mae: 17.1568 - val_loss: 230.8984 - val_mae: 11.3604\n",
      "Epoch 70/128\n",
      "\u001b[1m2/2\u001b[0m \u001b[32m━━━━━━━━━━━━━━━━━━━━\u001b[0m\u001b[37m\u001b[0m \u001b[1m0s\u001b[0m 31ms/step - loss: 420.5500 - mae: 17.6599 - val_loss: 222.3463 - val_mae: 11.2528\n",
      "Epoch 71/128\n",
      "\u001b[1m2/2\u001b[0m \u001b[32m━━━━━━━━━━━━━━━━━━━━\u001b[0m\u001b[37m\u001b[0m \u001b[1m0s\u001b[0m 31ms/step - loss: 484.1823 - mae: 16.9815 - val_loss: 215.9092 - val_mae: 11.1552\n",
      "Epoch 72/128\n",
      "\u001b[1m2/2\u001b[0m \u001b[32m━━━━━━━━━━━━━━━━━━━━\u001b[0m\u001b[37m\u001b[0m \u001b[1m0s\u001b[0m 30ms/step - loss: 469.5117 - mae: 18.4003 - val_loss: 210.9033 - val_mae: 11.1085\n",
      "Epoch 73/128\n",
      "\u001b[1m2/2\u001b[0m \u001b[32m━━━━━━━━━━━━━━━━━━━━\u001b[0m\u001b[37m\u001b[0m \u001b[1m0s\u001b[0m 31ms/step - loss: 482.2724 - mae: 18.7975 - val_loss: 206.6583 - val_mae: 11.2207\n",
      "Epoch 74/128\n",
      "\u001b[1m2/2\u001b[0m \u001b[32m━━━━━━━━━━━━━━━━━━━━\u001b[0m\u001b[37m\u001b[0m \u001b[1m0s\u001b[0m 30ms/step - loss: 488.9013 - mae: 18.9738 - val_loss: 202.6134 - val_mae: 11.1081\n",
      "Epoch 75/128\n",
      "\u001b[1m2/2\u001b[0m \u001b[32m━━━━━━━━━━━━━━━━━━━━\u001b[0m\u001b[37m\u001b[0m \u001b[1m0s\u001b[0m 30ms/step - loss: 356.6230 - mae: 15.0484 - val_loss: 199.4026 - val_mae: 10.8840\n",
      "Epoch 76/128\n",
      "\u001b[1m2/2\u001b[0m \u001b[32m━━━━━━━━━━━━━━━━━━━━\u001b[0m\u001b[37m\u001b[0m \u001b[1m0s\u001b[0m 31ms/step - loss: 307.6967 - mae: 13.5282 - val_loss: 196.8561 - val_mae: 10.8408\n",
      "Epoch 77/128\n",
      "\u001b[1m2/2\u001b[0m \u001b[32m━━━━━━━━━━━━━━━━━━━━\u001b[0m\u001b[37m\u001b[0m \u001b[1m0s\u001b[0m 31ms/step - loss: 379.9069 - mae: 16.9292 - val_loss: 194.3871 - val_mae: 10.8092\n",
      "Epoch 78/128\n",
      "\u001b[1m2/2\u001b[0m \u001b[32m━━━━━━━━━━━━━━━━━━━━\u001b[0m\u001b[37m\u001b[0m \u001b[1m0s\u001b[0m 30ms/step - loss: 534.8301 - mae: 18.3038 - val_loss: 191.7996 - val_mae: 10.7821\n",
      "Epoch 79/128\n",
      "\u001b[1m2/2\u001b[0m \u001b[32m━━━━━━━━━━━━━━━━━━━━\u001b[0m\u001b[37m\u001b[0m \u001b[1m0s\u001b[0m 30ms/step - loss: 494.8062 - mae: 16.9135 - val_loss: 189.5111 - val_mae: 10.7627\n",
      "Epoch 80/128\n",
      "\u001b[1m2/2\u001b[0m \u001b[32m━━━━━━━━━━━━━━━━━━━━\u001b[0m\u001b[37m\u001b[0m \u001b[1m0s\u001b[0m 29ms/step - loss: 310.8783 - mae: 14.0085 - val_loss: 186.8447 - val_mae: 10.7204\n",
      "Epoch 81/128\n",
      "\u001b[1m2/2\u001b[0m \u001b[32m━━━━━━━━━━━━━━━━━━━━\u001b[0m\u001b[37m\u001b[0m \u001b[1m0s\u001b[0m 30ms/step - loss: 455.1442 - mae: 18.4384 - val_loss: 184.3501 - val_mae: 10.6802\n",
      "Epoch 82/128\n",
      "\u001b[1m2/2\u001b[0m \u001b[32m━━━━━━━━━━━━━━━━━━━━\u001b[0m\u001b[37m\u001b[0m \u001b[1m0s\u001b[0m 30ms/step - loss: 336.9166 - mae: 15.3497 - val_loss: 182.0480 - val_mae: 10.6428\n",
      "Epoch 83/128\n",
      "\u001b[1m2/2\u001b[0m \u001b[32m━━━━━━━━━━━━━━━━━━━━\u001b[0m\u001b[37m\u001b[0m \u001b[1m0s\u001b[0m 32ms/step - loss: 485.3925 - mae: 18.5724 - val_loss: 181.3941 - val_mae: 10.6544\n",
      "Epoch 84/128\n",
      "\u001b[1m2/2\u001b[0m \u001b[32m━━━━━━━━━━━━━━━━━━━━\u001b[0m\u001b[37m\u001b[0m \u001b[1m0s\u001b[0m 30ms/step - loss: 399.2803 - mae: 16.8977 - val_loss: 183.4221 - val_mae: 10.7012\n",
      "Epoch 85/128\n",
      "\u001b[1m2/2\u001b[0m \u001b[32m━━━━━━━━━━━━━━━━━━━━\u001b[0m\u001b[37m\u001b[0m \u001b[1m0s\u001b[0m 29ms/step - loss: 280.7094 - mae: 13.5165 - val_loss: 185.5089 - val_mae: 10.7347\n",
      "Epoch 86/128\n",
      "\u001b[1m2/2\u001b[0m \u001b[32m━━━━━━━━━━━━━━━━━━━━\u001b[0m\u001b[37m\u001b[0m \u001b[1m0s\u001b[0m 29ms/step - loss: 449.9696 - mae: 16.4185 - val_loss: 187.1422 - val_mae: 10.7583\n",
      "Epoch 87/128\n",
      "\u001b[1m2/2\u001b[0m \u001b[32m━━━━━━━━━━━━━━━━━━━━\u001b[0m\u001b[37m\u001b[0m \u001b[1m0s\u001b[0m 30ms/step - loss: 321.3362 - mae: 14.8237 - val_loss: 186.6189 - val_mae: 10.7555\n",
      "Epoch 88/128\n",
      "\u001b[1m2/2\u001b[0m \u001b[32m━━━━━━━━━━━━━━━━━━━━\u001b[0m\u001b[37m\u001b[0m \u001b[1m0s\u001b[0m 30ms/step - loss: 341.4941 - mae: 15.2634 - val_loss: 185.3822 - val_mae: 10.7495\n",
      "Epoch 89/128\n",
      "\u001b[1m2/2\u001b[0m \u001b[32m━━━━━━━━━━━━━━━━━━━━\u001b[0m\u001b[37m\u001b[0m \u001b[1m0s\u001b[0m 30ms/step - loss: 486.9724 - mae: 19.2781 - val_loss: 185.0780 - val_mae: 10.7506\n",
      "Epoch 90/128\n",
      "\u001b[1m2/2\u001b[0m \u001b[32m━━━━━━━━━━━━━━━━━━━━\u001b[0m\u001b[37m\u001b[0m \u001b[1m0s\u001b[0m 29ms/step - loss: 365.7475 - mae: 15.5875 - val_loss: 183.9830 - val_mae: 10.7402\n",
      "Epoch 91/128\n",
      "\u001b[1m2/2\u001b[0m \u001b[32m━━━━━━━━━━━━━━━━━━━━\u001b[0m\u001b[37m\u001b[0m \u001b[1m0s\u001b[0m 29ms/step - loss: 262.5908 - mae: 12.9052 - val_loss: 182.8663 - val_mae: 10.7262\n",
      "Epoch 92/128\n",
      "\u001b[1m2/2\u001b[0m \u001b[32m━━━━━━━━━━━━━━━━━━━━\u001b[0m\u001b[37m\u001b[0m \u001b[1m0s\u001b[0m 30ms/step - loss: 218.6578 - mae: 11.7684 - val_loss: 180.5554 - val_mae: 10.6999\n",
      "Epoch 93/128\n",
      "\u001b[1m2/2\u001b[0m \u001b[32m━━━━━━━━━━━━━━━━━━━━\u001b[0m\u001b[37m\u001b[0m \u001b[1m0s\u001b[0m 31ms/step - loss: 435.8593 - mae: 17.8592 - val_loss: 177.0391 - val_mae: 10.6592\n",
      "Epoch 94/128\n",
      "\u001b[1m2/2\u001b[0m \u001b[32m━━━━━━━━━━━━━━━━━━━━\u001b[0m\u001b[37m\u001b[0m \u001b[1m0s\u001b[0m 31ms/step - loss: 326.6860 - mae: 15.4347 - val_loss: 173.2449 - val_mae: 10.6109\n",
      "Epoch 95/128\n",
      "\u001b[1m2/2\u001b[0m \u001b[32m━━━━━━━━━━━━━━━━━━━━\u001b[0m\u001b[37m\u001b[0m \u001b[1m0s\u001b[0m 30ms/step - loss: 403.3846 - mae: 16.3135 - val_loss: 169.1403 - val_mae: 10.5596\n",
      "Epoch 96/128\n",
      "\u001b[1m2/2\u001b[0m \u001b[32m━━━━━━━━━━━━━━━━━━━━\u001b[0m\u001b[37m\u001b[0m \u001b[1m0s\u001b[0m 31ms/step - loss: 237.2274 - mae: 13.2162 - val_loss: 165.0233 - val_mae: 10.5087\n",
      "Epoch 97/128\n",
      "\u001b[1m2/2\u001b[0m \u001b[32m━━━━━━━━━━━━━━━━━━━━\u001b[0m\u001b[37m\u001b[0m \u001b[1m0s\u001b[0m 31ms/step - loss: 364.6055 - mae: 15.9228 - val_loss: 161.4915 - val_mae: 10.4585\n",
      "Epoch 98/128\n",
      "\u001b[1m2/2\u001b[0m \u001b[32m━━━━━━━━━━━━━━━━━━━━\u001b[0m\u001b[37m\u001b[0m \u001b[1m0s\u001b[0m 30ms/step - loss: 402.1350 - mae: 16.6926 - val_loss: 158.9784 - val_mae: 10.4230\n",
      "Epoch 99/128\n",
      "\u001b[1m2/2\u001b[0m \u001b[32m━━━━━━━━━━━━━━━━━━━━\u001b[0m\u001b[37m\u001b[0m \u001b[1m0s\u001b[0m 30ms/step - loss: 313.3209 - mae: 15.3719 - val_loss: 157.5316 - val_mae: 10.4029\n",
      "Epoch 100/128\n",
      "\u001b[1m2/2\u001b[0m \u001b[32m━━━━━━━━━━━━━━━━━━━━\u001b[0m\u001b[37m\u001b[0m \u001b[1m0s\u001b[0m 30ms/step - loss: 223.4930 - mae: 13.0105 - val_loss: 156.4082 - val_mae: 10.3872\n",
      "Epoch 101/128\n",
      "\u001b[1m2/2\u001b[0m \u001b[32m━━━━━━━━━━━━━━━━━━━━\u001b[0m\u001b[37m\u001b[0m \u001b[1m0s\u001b[0m 30ms/step - loss: 433.2587 - mae: 17.1723 - val_loss: 155.2983 - val_mae: 10.3735\n",
      "Epoch 102/128\n",
      "\u001b[1m2/2\u001b[0m \u001b[32m━━━━━━━━━━━━━━━━━━━━\u001b[0m\u001b[37m\u001b[0m \u001b[1m0s\u001b[0m 30ms/step - loss: 286.9334 - mae: 14.0952 - val_loss: 154.5285 - val_mae: 10.3628\n",
      "Epoch 103/128\n",
      "\u001b[1m2/2\u001b[0m \u001b[32m━━━━━━━━━━━━━━━━━━━━\u001b[0m\u001b[37m\u001b[0m \u001b[1m0s\u001b[0m 30ms/step - loss: 298.7646 - mae: 14.2063 - val_loss: 153.2190 - val_mae: 10.3439\n",
      "Epoch 104/128\n",
      "\u001b[1m2/2\u001b[0m \u001b[32m━━━━━━━━━━━━━━━━━━━━\u001b[0m\u001b[37m\u001b[0m \u001b[1m0s\u001b[0m 30ms/step - loss: 309.8443 - mae: 15.3441 - val_loss: 152.3833 - val_mae: 10.3314\n",
      "Epoch 105/128\n",
      "\u001b[1m2/2\u001b[0m \u001b[32m━━━━━━━━━━━━━━━━━━━━\u001b[0m\u001b[37m\u001b[0m \u001b[1m0s\u001b[0m 30ms/step - loss: 349.0626 - mae: 16.3748 - val_loss: 152.7276 - val_mae: 10.3322\n",
      "Epoch 106/128\n",
      "\u001b[1m2/2\u001b[0m \u001b[32m━━━━━━━━━━━━━━━━━━━━\u001b[0m\u001b[37m\u001b[0m \u001b[1m0s\u001b[0m 29ms/step - loss: 228.8708 - mae: 12.2879 - val_loss: 152.9965 - val_mae: 10.3254\n",
      "Epoch 107/128\n",
      "\u001b[1m2/2\u001b[0m \u001b[32m━━━━━━━━━━━━━━━━━━━━\u001b[0m\u001b[37m\u001b[0m \u001b[1m0s\u001b[0m 29ms/step - loss: 470.2409 - mae: 17.6264 - val_loss: 154.3287 - val_mae: 10.3300\n",
      "Epoch 108/128\n",
      "\u001b[1m2/2\u001b[0m \u001b[32m━━━━━━━━━━━━━━━━━━━━\u001b[0m\u001b[37m\u001b[0m \u001b[1m0s\u001b[0m 29ms/step - loss: 362.8289 - mae: 15.7661 - val_loss: 156.3811 - val_mae: 10.3371\n",
      "Epoch 109/128\n",
      "\u001b[1m2/2\u001b[0m \u001b[32m━━━━━━━━━━━━━━━━━━━━\u001b[0m\u001b[37m\u001b[0m \u001b[1m0s\u001b[0m 30ms/step - loss: 315.8705 - mae: 15.2041 - val_loss: 158.6437 - val_mae: 10.3385\n",
      "Epoch 110/128\n",
      "\u001b[1m2/2\u001b[0m \u001b[32m━━━━━━━━━━━━━━━━━━━━\u001b[0m\u001b[37m\u001b[0m \u001b[1m0s\u001b[0m 28ms/step - loss: 190.1500 - mae: 10.4928 - val_loss: 160.2260 - val_mae: 10.3339\n",
      "Epoch 111/128\n",
      "\u001b[1m2/2\u001b[0m \u001b[32m━━━━━━━━━━━━━━━━━━━━\u001b[0m\u001b[37m\u001b[0m \u001b[1m0s\u001b[0m 30ms/step - loss: 175.4042 - mae: 10.4830 - val_loss: 161.0729 - val_mae: 10.3218\n",
      "Epoch 112/128\n",
      "\u001b[1m2/2\u001b[0m \u001b[32m━━━━━━━━━━━━━━━━━━━━\u001b[0m\u001b[37m\u001b[0m \u001b[1m0s\u001b[0m 29ms/step - loss: 249.0571 - mae: 12.3907 - val_loss: 160.3929 - val_mae: 10.2952\n",
      "Epoch 113/128\n",
      "\u001b[1m2/2\u001b[0m \u001b[32m━━━━━━━━━━━━━━━━━━━━\u001b[0m\u001b[37m\u001b[0m \u001b[1m0s\u001b[0m 29ms/step - loss: 219.4119 - mae: 11.7607 - val_loss: 155.9016 - val_mae: 10.2346\n",
      "Epoch 114/128\n",
      "\u001b[1m2/2\u001b[0m \u001b[32m━━━━━━━━━━━━━━━━━━━━\u001b[0m\u001b[37m\u001b[0m \u001b[1m0s\u001b[0m 29ms/step - loss: 410.8391 - mae: 15.2787 - val_loss: 153.2428 - val_mae: 10.1908\n"
     ]
    },
    {
     "data": {
      "text/plain": [
       "<keras.src.callbacks.history.History at 0x7a648d1dbd30>"
      ]
     },
     "execution_count": 9,
     "metadata": {},
     "output_type": "execute_result"
    }
   ],
   "source": [
    "model.fit(x_train, y_train, epochs=128, batch_size=16, validation_data=(x_test, y_test), callbacks=[early_stop])"
   ]
  },
  {
   "cell_type": "code",
   "execution_count": 10,
   "id": "e89ba837",
   "metadata": {
    "execution": {
     "iopub.execute_input": "2025-03-12T12:03:40.640762Z",
     "iopub.status.busy": "2025-03-12T12:03:40.640408Z",
     "iopub.status.idle": "2025-03-12T12:03:40.727820Z",
     "shell.execute_reply": "2025-03-12T12:03:40.726787Z"
    },
    "papermill": {
     "duration": 0.112176,
     "end_time": "2025-03-12T12:03:40.729552",
     "exception": false,
     "start_time": "2025-03-12T12:03:40.617376",
     "status": "completed"
    },
    "tags": []
   },
   "outputs": [
    {
     "name": "stdout",
     "output_type": "stream",
     "text": [
      "\u001b[1m1/1\u001b[0m \u001b[32m━━━━━━━━━━━━━━━━━━━━\u001b[0m\u001b[37m\u001b[0m \u001b[1m0s\u001b[0m 24ms/step - loss: 152.3833 - mae: 10.3314\n",
      "Test Loss: 152.3833, Test MAE: 10.3314\n"
     ]
    }
   ],
   "source": [
    "loss, mae = model.evaluate(x_test, y_test)\n",
    "print(f\"Test Loss: {loss:.4f}, Test MAE: {mae:.4f}\")"
   ]
  },
  {
   "cell_type": "code",
   "execution_count": 11,
   "id": "2efb611e",
   "metadata": {
    "execution": {
     "iopub.execute_input": "2025-03-12T12:03:40.776731Z",
     "iopub.status.busy": "2025-03-12T12:03:40.776367Z",
     "iopub.status.idle": "2025-03-12T12:03:40.915914Z",
     "shell.execute_reply": "2025-03-12T12:03:40.914920Z"
    },
    "papermill": {
     "duration": 0.16614,
     "end_time": "2025-03-12T12:03:40.917943",
     "exception": false,
     "start_time": "2025-03-12T12:03:40.751803",
     "status": "completed"
    },
    "tags": []
   },
   "outputs": [
    {
     "name": "stdout",
     "output_type": "stream",
     "text": [
      "\u001b[1m1/1\u001b[0m \u001b[32m━━━━━━━━━━━━━━━━━━━━\u001b[0m\u001b[37m\u001b[0m \u001b[1m0s\u001b[0m 82ms/step\n",
      "[[86.21264 ]\n",
      " [23.63805 ]\n",
      " [34.465183]\n",
      " [71.599525]\n",
      " [39.782997]]\n"
     ]
    }
   ],
   "source": [
    "predictions = model.predict(x_test)\n",
    "print(predictions[:10])"
   ]
  }
 ],
 "metadata": {
  "kaggle": {
   "accelerator": "none",
   "dataSources": [
    {
     "datasetId": 3940998,
     "sourceId": 6856321,
     "sourceType": "datasetVersion"
    }
   ],
   "dockerImageVersionId": 30918,
   "isGpuEnabled": false,
   "isInternetEnabled": true,
   "language": "python",
   "sourceType": "notebook"
  },
  "kernelspec": {
   "display_name": "Python 3",
   "language": "python",
   "name": "python3"
  },
  "language_info": {
   "codemirror_mode": {
    "name": "ipython",
    "version": 3
   },
   "file_extension": ".py",
   "mimetype": "text/x-python",
   "name": "python",
   "nbconvert_exporter": "python",
   "pygments_lexer": "ipython3",
   "version": "3.10.12"
  },
  "papermill": {
   "default_parameters": {},
   "duration": 29.364487,
   "end_time": "2025-03-12T12:03:42.675996",
   "environment_variables": {},
   "exception": null,
   "input_path": "__notebook__.ipynb",
   "output_path": "__notebook__.ipynb",
   "parameters": {},
   "start_time": "2025-03-12T12:03:13.311509",
   "version": "2.6.0"
  }
 },
 "nbformat": 4,
 "nbformat_minor": 5
}
