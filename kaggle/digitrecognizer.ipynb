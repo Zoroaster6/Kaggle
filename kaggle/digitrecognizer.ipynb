{
 "cells": [
  {
   "cell_type": "code",
   "execution_count": 1,
   "id": "fa904f89",
   "metadata": {
    "_cell_guid": "b1076dfc-b9ad-4769-8c92-a6c4dae69d19",
    "_uuid": "8f2839f25d086af736a60e9eeb907d3b93b6e0e5",
    "execution": {
     "iopub.execute_input": "2025-03-03T11:09:06.516302Z",
     "iopub.status.busy": "2025-03-03T11:09:06.515974Z",
     "iopub.status.idle": "2025-03-03T11:09:24.258970Z",
     "shell.execute_reply": "2025-03-03T11:09:24.257665Z"
    },
    "papermill": {
     "duration": 17.749964,
     "end_time": "2025-03-03T11:09:24.261127",
     "exception": false,
     "start_time": "2025-03-03T11:09:06.511163",
     "status": "completed"
    },
    "tags": []
   },
   "outputs": [],
   "source": [
    "import numpy as np  \n",
    "import pandas as pd  \n",
    "import matplotlib.pyplot as plt  \n",
    "import seaborn as sns  \n",
    "from sklearn.model_selection import train_test_split  \n",
    "from sklearn.ensemble import RandomForestClassifier  \n",
    "from sklearn.metrics import accuracy_score  \n",
    "import tensorflow as tf  \n",
    "from tensorflow import keras  "
   ]
  },
  {
   "cell_type": "code",
   "execution_count": 2,
   "id": "77b3e4f5",
   "metadata": {
    "execution": {
     "iopub.execute_input": "2025-03-03T11:09:24.273295Z",
     "iopub.status.busy": "2025-03-03T11:09:24.272414Z",
     "iopub.status.idle": "2025-03-03T11:09:29.638830Z",
     "shell.execute_reply": "2025-03-03T11:09:29.637852Z"
    },
    "papermill": {
     "duration": 5.374558,
     "end_time": "2025-03-03T11:09:29.640771",
     "exception": false,
     "start_time": "2025-03-03T11:09:24.266213",
     "status": "completed"
    },
    "tags": []
   },
   "outputs": [],
   "source": [
    "train_data = pd.read_csv('/kaggle/input/digit-recognizer/train.csv')\n",
    "test_data = pd.read_csv('/kaggle/input/digit-recognizer/test.csv')"
   ]
  },
  {
   "cell_type": "code",
   "execution_count": 3,
   "id": "a0b7f2e3",
   "metadata": {
    "execution": {
     "iopub.execute_input": "2025-03-03T11:09:29.648794Z",
     "iopub.status.busy": "2025-03-03T11:09:29.648365Z",
     "iopub.status.idle": "2025-03-03T11:09:29.669067Z",
     "shell.execute_reply": "2025-03-03T11:09:29.667559Z"
    },
    "papermill": {
     "duration": 0.026716,
     "end_time": "2025-03-03T11:09:29.670915",
     "exception": false,
     "start_time": "2025-03-03T11:09:29.644199",
     "status": "completed"
    },
    "tags": []
   },
   "outputs": [
    {
     "name": "stdout",
     "output_type": "stream",
     "text": [
      "(42000, 785)\n",
      "   label  pixel0  pixel1  pixel2  pixel3  pixel4  pixel5  pixel6  pixel7  \\\n",
      "0      1       0       0       0       0       0       0       0       0   \n",
      "1      0       0       0       0       0       0       0       0       0   \n",
      "2      1       0       0       0       0       0       0       0       0   \n",
      "3      4       0       0       0       0       0       0       0       0   \n",
      "4      0       0       0       0       0       0       0       0       0   \n",
      "\n",
      "   pixel8  ...  pixel774  pixel775  pixel776  pixel777  pixel778  pixel779  \\\n",
      "0       0  ...         0         0         0         0         0         0   \n",
      "1       0  ...         0         0         0         0         0         0   \n",
      "2       0  ...         0         0         0         0         0         0   \n",
      "3       0  ...         0         0         0         0         0         0   \n",
      "4       0  ...         0         0         0         0         0         0   \n",
      "\n",
      "   pixel780  pixel781  pixel782  pixel783  \n",
      "0         0         0         0         0  \n",
      "1         0         0         0         0  \n",
      "2         0         0         0         0  \n",
      "3         0         0         0         0  \n",
      "4         0         0         0         0  \n",
      "\n",
      "[5 rows x 785 columns]\n"
     ]
    }
   ],
   "source": [
    "print(train_data.shape)\n",
    "print(train_data.head())"
   ]
  },
  {
   "cell_type": "code",
   "execution_count": 4,
   "id": "f2054e1e",
   "metadata": {
    "execution": {
     "iopub.execute_input": "2025-03-03T11:09:29.678346Z",
     "iopub.status.busy": "2025-03-03T11:09:29.678025Z",
     "iopub.status.idle": "2025-03-03T11:09:30.498591Z",
     "shell.execute_reply": "2025-03-03T11:09:30.497417Z"
    },
    "papermill": {
     "duration": 0.826158,
     "end_time": "2025-03-03T11:09:30.500310",
     "exception": false,
     "start_time": "2025-03-03T11:09:29.674152",
     "status": "completed"
    },
    "tags": []
   },
   "outputs": [
    {
     "data": {
      "image/png": "[encoded data removed]",
      "text/plain": [
       "<Figure size 800x600 with 9 Axes>"
      ]
     },
     "metadata": {},
     "output_type": "display_data"
    }
   ],
   "source": [
    "plt.figure(figsize=(8, 6))\n",
    "for i in range(9):\n",
    "    plt.subplot(3, 3, i+1)\n",
    "    plt.imshow(train_data.iloc[i, 1:].values.reshape(28, 28), cmap='gray')\n",
    "    plt.title(f\"Label: {train_data.iloc[i, 0]}\")\n",
    "    plt.axis(\"off\")\n",
    "plt.show()"
   ]
  },
  {
   "cell_type": "code",
   "execution_count": 5,
   "id": "7463c279",
   "metadata": {
    "execution": {
     "iopub.execute_input": "2025-03-03T11:09:30.508681Z",
     "iopub.status.busy": "2025-03-03T11:09:30.508278Z",
     "iopub.status.idle": "2025-03-03T11:09:31.079849Z",
     "shell.execute_reply": "2025-03-03T11:09:31.078747Z"
    },
    "papermill": {
     "duration": 0.577902,
     "end_time": "2025-03-03T11:09:31.081883",
     "exception": false,
     "start_time": "2025-03-03T11:09:30.503981",
     "status": "completed"
    },
    "tags": []
   },
   "outputs": [],
   "source": [
    "X = train_data.iloc[:, 1:].values / 255.0  \n",
    "y = train_data.iloc[:, 0].values \n",
    "\n",
    "X_train, X_val, y_train, y_val = train_test_split(X, y, test_size=0.2, random_state=42)"
   ]
  },
  {
   "cell_type": "code",
   "execution_count": 6,
   "id": "73944467",
   "metadata": {
    "execution": {
     "iopub.execute_input": "2025-03-03T11:09:31.090266Z",
     "iopub.status.busy": "2025-03-03T11:09:31.089953Z",
     "iopub.status.idle": "2025-03-03T11:09:31.200163Z",
     "shell.execute_reply": "2025-03-03T11:09:31.199237Z"
    },
    "papermill": {
     "duration": 0.11634,
     "end_time": "2025-03-03T11:09:31.202023",
     "exception": false,
     "start_time": "2025-03-03T11:09:31.085683",
     "status": "completed"
    },
    "tags": []
   },
   "outputs": [],
   "source": [
    "X_test = test_data.values / 255.0"
   ]
  },
  {
   "cell_type": "code",
   "execution_count": 7,
   "id": "fc746e7a",
   "metadata": {
    "execution": {
     "iopub.execute_input": "2025-03-03T11:09:31.210305Z",
     "iopub.status.busy": "2025-03-03T11:09:31.209983Z",
     "iopub.status.idle": "2025-03-03T11:09:54.046903Z",
     "shell.execute_reply": "2025-03-03T11:09:54.045639Z"
    },
    "papermill": {
     "duration": 22.843027,
     "end_time": "2025-03-03T11:09:54.048761",
     "exception": false,
     "start_time": "2025-03-03T11:09:31.205734",
     "status": "completed"
    },
    "tags": []
   },
   "outputs": [
    {
     "name": "stdout",
     "output_type": "stream",
     "text": [
      "Accuracy: 0.9629761904761904\n"
     ]
    }
   ],
   "source": [
    "clf = RandomForestClassifier(n_estimators=100, random_state=42)\n",
    "clf.fit(X_train, y_train)\n",
    "\n",
    "y_pred = clf.predict(X_val)\n",
    "print(\"Accuracy:\", accuracy_score(y_val, y_pred))"
   ]
  },
  {
   "cell_type": "code",
   "execution_count": 8,
   "id": "774bab72",
   "metadata": {
    "execution": {
     "iopub.execute_input": "2025-03-03T11:09:54.057415Z",
     "iopub.status.busy": "2025-03-03T11:09:54.057109Z",
     "iopub.status.idle": "2025-03-03T11:10:27.009152Z",
     "shell.execute_reply": "2025-03-03T11:10:27.008088Z"
    },
    "papermill": {
     "duration": 32.95814,
     "end_time": "2025-03-03T11:10:27.010835",
     "exception": false,
     "start_time": "2025-03-03T11:09:54.052695",
     "status": "completed"
    },
    "tags": []
   },
   "outputs": [
    {
     "name": "stderr",
     "output_type": "stream",
     "text": [
      "/usr/local/lib/python3.10/dist-packages/keras/src/layers/core/dense.py:87: UserWarning: Do not pass an `input_shape`/`input_dim` argument to a layer. When using Sequential models, prefer using an `Input(shape)` object as the first layer in the model instead.\n",
      "  super().__init__(activity_regularizer=activity_regularizer, **kwargs)\n"
     ]
    },
    {
     "name": "stdout",
     "output_type": "stream",
     "text": [
      "Epoch 1/10\n",
      "\u001b[1m1050/1050\u001b[0m \u001b[32m━━━━━━━━━━━━━━━━━━━━\u001b[0m\u001b[37m\u001b[0m \u001b[1m5s\u001b[0m 3ms/step - accuracy: 0.8431 - loss: 0.5354 - val_accuracy: 0.9507 - val_loss: 0.1724\n",
      "Epoch 2/10\n",
      "\u001b[1m1050/1050\u001b[0m \u001b[32m━━━━━━━━━━━━━━━━━━━━\u001b[0m\u001b[37m\u001b[0m \u001b[1m3s\u001b[0m 3ms/step - accuracy: 0.9566 - loss: 0.1415 - val_accuracy: 0.9620 - val_loss: 0.1272\n",
      "Epoch 3/10\n",
      "\u001b[1m1050/1050\u001b[0m \u001b[32m━━━━━━━━━━━━━━━━━━━━\u001b[0m\u001b[37m\u001b[0m \u001b[1m3s\u001b[0m 3ms/step - accuracy: 0.9707 - loss: 0.0924 - val_accuracy: 0.9657 - val_loss: 0.1157\n",
      "Epoch 4/10\n",
      "\u001b[1m1050/1050\u001b[0m \u001b[32m━━━━━━━━━━━━━━━━━━━━\u001b[0m\u001b[37m\u001b[0m \u001b[1m3s\u001b[0m 3ms/step - accuracy: 0.9801 - loss: 0.0642 - val_accuracy: 0.9690 - val_loss: 0.1002\n",
      "Epoch 5/10\n",
      "\u001b[1m1050/1050\u001b[0m \u001b[32m━━━━━━━━━━━━━━━━━━━━\u001b[0m\u001b[37m\u001b[0m \u001b[1m3s\u001b[0m 3ms/step - accuracy: 0.9869 - loss: 0.0435 - val_accuracy: 0.9602 - val_loss: 0.1472\n",
      "Epoch 6/10\n",
      "\u001b[1m1050/1050\u001b[0m \u001b[32m━━━━━━━━━━━━━━━━━━━━\u001b[0m\u001b[37m\u001b[0m \u001b[1m3s\u001b[0m 3ms/step - accuracy: 0.9882 - loss: 0.0374 - val_accuracy: 0.9676 - val_loss: 0.1129\n",
      "Epoch 7/10\n",
      "\u001b[1m1050/1050\u001b[0m \u001b[32m━━━━━━━━━━━━━━━━━━━━\u001b[0m\u001b[37m\u001b[0m \u001b[1m3s\u001b[0m 3ms/step - accuracy: 0.9907 - loss: 0.0313 - val_accuracy: 0.9683 - val_loss: 0.1158\n",
      "Epoch 8/10\n",
      "\u001b[1m1050/1050\u001b[0m \u001b[32m━━━━━━━━━━━━━━━━━━━━\u001b[0m\u001b[37m\u001b[0m \u001b[1m3s\u001b[0m 3ms/step - accuracy: 0.9923 - loss: 0.0246 - val_accuracy: 0.9745 - val_loss: 0.0979\n",
      "Epoch 9/10\n",
      "\u001b[1m1050/1050\u001b[0m \u001b[32m━━━━━━━━━━━━━━━━━━━━\u001b[0m\u001b[37m\u001b[0m \u001b[1m3s\u001b[0m 3ms/step - accuracy: 0.9941 - loss: 0.0182 - val_accuracy: 0.9708 - val_loss: 0.1135\n",
      "Epoch 10/10\n",
      "\u001b[1m1050/1050\u001b[0m \u001b[32m━━━━━━━━━━━━━━━━━━━━\u001b[0m\u001b[37m\u001b[0m \u001b[1m3s\u001b[0m 3ms/step - accuracy: 0.9944 - loss: 0.0164 - val_accuracy: 0.9658 - val_loss: 0.1515\n"
     ]
    },
    {
     "data": {
      "text/plain": [
       "<keras.src.callbacks.history.History at 0x780fe8cbea40>"
      ]
     },
     "execution_count": 8,
     "metadata": {},
     "output_type": "execute_result"
    }
   ],
   "source": [
    "model = keras.Sequential([\n",
    "    keras.layers.Dense(128, activation='relu', input_shape=(784,)),\n",
    "    keras.layers.Dense(64, activation='relu'),\n",
    "    keras.layers.Dense(10, activation='softmax')\n",
    "])\n",
    "\n",
    "model.compile(optimizer='adam', loss='sparse_categorical_crossentropy', metrics=['accuracy'])\n",
    "model.fit(X_train, y_train, epochs=10, validation_data=(X_val, y_val))"
   ]
  },
  {
   "cell_type": "code",
   "execution_count": 9,
   "id": "cc5996ee",
   "metadata": {
    "execution": {
     "iopub.execute_input": "2025-03-03T11:10:27.081473Z",
     "iopub.status.busy": "2025-03-03T11:10:27.081116Z",
     "iopub.status.idle": "2025-03-03T11:13:26.774454Z",
     "shell.execute_reply": "2025-03-03T11:13:26.773362Z"
    },
    "papermill": {
     "duration": 179.730131,
     "end_time": "2025-03-03T11:13:26.776114",
     "exception": false,
     "start_time": "2025-03-03T11:10:27.045983",
     "status": "completed"
    },
    "tags": []
   },
   "outputs": [
    {
     "name": "stderr",
     "output_type": "stream",
     "text": [
      "/usr/local/lib/python3.10/dist-packages/keras/src/layers/convolutional/base_conv.py:107: UserWarning: Do not pass an `input_shape`/`input_dim` argument to a layer. When using Sequential models, prefer using an `Input(shape)` object as the first layer in the model instead.\n",
      "  super().__init__(activity_regularizer=activity_regularizer, **kwargs)\n"
     ]
    },
    {
     "name": "stdout",
     "output_type": "stream",
     "text": [
      "Epoch 1/10\n",
      "\u001b[1m1050/1050\u001b[0m \u001b[32m━━━━━━━━━━━━━━━━━━━━\u001b[0m\u001b[37m\u001b[0m \u001b[1m20s\u001b[0m 17ms/step - accuracy: 0.8725 - loss: 0.4041 - val_accuracy: 0.9755 - val_loss: 0.0758\n",
      "Epoch 2/10\n",
      "\u001b[1m1050/1050\u001b[0m \u001b[32m━━━━━━━━━━━━━━━━━━━━\u001b[0m\u001b[37m\u001b[0m \u001b[1m18s\u001b[0m 17ms/step - accuracy: 0.9790 - loss: 0.0655 - val_accuracy: 0.9817 - val_loss: 0.0526\n",
      "Epoch 3/10\n",
      "\u001b[1m1050/1050\u001b[0m \u001b[32m━━━━━━━━━━━━━━━━━━━━\u001b[0m\u001b[37m\u001b[0m \u001b[1m17s\u001b[0m 17ms/step - accuracy: 0.9878 - loss: 0.0377 - val_accuracy: 0.9876 - val_loss: 0.0405\n",
      "Epoch 4/10\n",
      "\u001b[1m1050/1050\u001b[0m \u001b[32m━━━━━━━━━━━━━━━━━━━━\u001b[0m\u001b[37m\u001b[0m \u001b[1m18s\u001b[0m 17ms/step - accuracy: 0.9913 - loss: 0.0263 - val_accuracy: 0.9898 - val_loss: 0.0338\n",
      "Epoch 5/10\n",
      "\u001b[1m1050/1050\u001b[0m \u001b[32m━━━━━━━━━━━━━━━━━━━━\u001b[0m\u001b[37m\u001b[0m \u001b[1m17s\u001b[0m 17ms/step - accuracy: 0.9940 - loss: 0.0196 - val_accuracy: 0.9852 - val_loss: 0.0483\n",
      "Epoch 6/10\n",
      "\u001b[1m1050/1050\u001b[0m \u001b[32m━━━━━━━━━━━━━━━━━━━━\u001b[0m\u001b[37m\u001b[0m \u001b[1m18s\u001b[0m 17ms/step - accuracy: 0.9947 - loss: 0.0155 - val_accuracy: 0.9904 - val_loss: 0.0294\n",
      "Epoch 7/10\n",
      "\u001b[1m1050/1050\u001b[0m \u001b[32m━━━━━━━━━━━━━━━━━━━━\u001b[0m\u001b[37m\u001b[0m \u001b[1m17s\u001b[0m 17ms/step - accuracy: 0.9972 - loss: 0.0098 - val_accuracy: 0.9879 - val_loss: 0.0430\n",
      "Epoch 8/10\n",
      "\u001b[1m1050/1050\u001b[0m \u001b[32m━━━━━━━━━━━━━━━━━━━━\u001b[0m\u001b[37m\u001b[0m \u001b[1m18s\u001b[0m 17ms/step - accuracy: 0.9970 - loss: 0.0094 - val_accuracy: 0.9886 - val_loss: 0.0392\n",
      "Epoch 9/10\n",
      "\u001b[1m1050/1050\u001b[0m \u001b[32m━━━━━━━━━━━━━━━━━━━━\u001b[0m\u001b[37m\u001b[0m \u001b[1m18s\u001b[0m 17ms/step - accuracy: 0.9978 - loss: 0.0069 - val_accuracy: 0.9883 - val_loss: 0.0472\n",
      "Epoch 10/10\n",
      "\u001b[1m1050/1050\u001b[0m \u001b[32m━━━━━━━━━━━━━━━━━━━━\u001b[0m\u001b[37m\u001b[0m \u001b[1m18s\u001b[0m 17ms/step - accuracy: 0.9969 - loss: 0.0090 - val_accuracy: 0.9887 - val_loss: 0.0413\n"
     ]
    },
    {
     "data": {
      "text/plain": [
       "<keras.src.callbacks.history.History at 0x780fe6e7ea40>"
      ]
     },
     "execution_count": 9,
     "metadata": {},
     "output_type": "execute_result"
    }
   ],
   "source": [
    "X_train_cnn = X_train.reshape(-1, 28, 28, 1) \n",
    "X_val_cnn = X_val.reshape(-1, 28, 28, 1)     \n",
    "X_test_cnn = X_test.reshape(-1, 28, 28, 1)    \n",
    "\n",
    "cnn_model = keras.Sequential([\n",
    "    keras.layers.Conv2D(32, (3,3), activation='relu', input_shape=(28,28,1)),\n",
    "    keras.layers.MaxPooling2D((2,2)),\n",
    "    keras.layers.Conv2D(64, (3,3), activation='relu'),\n",
    "    keras.layers.MaxPooling2D((2,2)),\n",
    "    keras.layers.Flatten(),\n",
    "    keras.layers.Dense(128, activation='relu'),\n",
    "    keras.layers.Dense(10, activation='softmax')\n",
    "])\n",
    "\n",
    "cnn_model.compile(optimizer='adam', loss='sparse_categorical_crossentropy', metrics=['accuracy'])\n",
    "cnn_model.fit(X_train_cnn, y_train, epochs=10, validation_data=(X_val_cnn, y_val))"
   ]
  },
  {
   "cell_type": "code",
   "execution_count": 10,
   "id": "30d36e28",
   "metadata": {
    "execution": {
     "iopub.execute_input": "2025-03-03T11:13:27.151902Z",
     "iopub.status.busy": "2025-03-03T11:13:27.151446Z",
     "iopub.status.idle": "2025-03-03T11:13:32.598713Z",
     "shell.execute_reply": "2025-03-03T11:13:32.597535Z"
    },
    "papermill": {
     "duration": 5.637514,
     "end_time": "2025-03-03T11:13:32.600634",
     "exception": false,
     "start_time": "2025-03-03T11:13:26.963120",
     "status": "completed"
    },
    "tags": []
   },
   "outputs": [
    {
     "name": "stdout",
     "output_type": "stream",
     "text": [
      "\u001b[1m875/875\u001b[0m \u001b[32m━━━━━━━━━━━━━━━━━━━━\u001b[0m\u001b[37m\u001b[0m \u001b[1m5s\u001b[0m 5ms/step\n"
     ]
    }
   ],
   "source": [
    "predictions = cnn_model.predict(X_test_cnn)\n",
    "pred_labels = np.argmax(predictions, axis=1)"
   ]
  },
  {
   "cell_type": "code",
   "execution_count": 11,
   "id": "eec4c240",
   "metadata": {
    "execution": {
     "iopub.execute_input": "2025-03-03T11:13:32.989737Z",
     "iopub.status.busy": "2025-03-03T11:13:32.989344Z",
     "iopub.status.idle": "2025-03-03T11:13:33.019779Z",
     "shell.execute_reply": "2025-03-03T11:13:33.018891Z"
    },
    "papermill": {
     "duration": 0.225794,
     "end_time": "2025-03-03T11:13:33.021630",
     "exception": false,
     "start_time": "2025-03-03T11:13:32.795836",
     "status": "completed"
    },
    "tags": []
   },
   "outputs": [],
   "source": [
    "submission = pd.DataFrame({'ImageId': np.arange(1, len(pred_labels) + 1), 'Label': pred_labels})\n",
    "submission.to_csv('submission.csv', index=False)"
   ]
  }
 ],
 "metadata": {
  "kaggle": {
   "accelerator": "none",
   "dataSources": [
    {
     "databundleVersionId": 861823,
     "sourceId": 3004,
     "sourceType": "competition"
    }
   ],
   "dockerImageVersionId": 30918,
   "isGpuEnabled": false,
   "isInternetEnabled": true,
   "language": "python",
   "sourceType": "notebook"
  },
  "kernelspec": {
   "display_name": "Python 3",
   "language": "python",
   "name": "python3"
  },
  "language_info": {
   "codemirror_mode": {
    "name": "ipython",
    "version": 3
   },
   "file_extension": ".py",
   "mimetype": "text/x-python",
   "name": "python",
   "nbconvert_exporter": "python",
   "pygments_lexer": "ipython3",
   "version": "3.10.12"
  },
  "papermill": {
   "default_parameters": {},
   "duration": 271.316978,
   "end_time": "2025-03-03T11:13:35.039007",
   "environment_variables": {},
   "exception": null,
   "input_path": "__notebook__.ipynb",
   "output_path": "__notebook__.ipynb",
   "parameters": {},
   "start_time": "2025-03-03T11:09:03.722029",
   "version": "2.6.0"
  }
 },
 "nbformat": 4,
 "nbformat_minor": 5
}
